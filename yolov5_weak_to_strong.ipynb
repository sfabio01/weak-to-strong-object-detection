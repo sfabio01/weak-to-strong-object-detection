{
  "nbformat": 4,
  "nbformat_minor": 0,
  "metadata": {
    "colab": {
      "provenance": [],
      "gpuType": "T4"
    },
    "kernelspec": {
      "name": "python3",
      "display_name": "Python 3"
    },
    "language_info": {
      "name": "python"
    },
    "accelerator": "GPU"
  },
  "cells": [
    {
      "cell_type": "markdown",
      "source": [
        "# YOLOv5 Weak-to-Strong Training"
      ],
      "metadata": {
        "id": "Gurog9ghriyt"
      }
    },
    {
      "cell_type": "markdown",
      "source": [
        "## Setup"
      ],
      "metadata": {
        "id": "zqA9mkPAr1QE"
      }
    },
    {
      "cell_type": "code",
      "execution_count": null,
      "metadata": {
        "id": "vRGHG-CFnArA"
      },
      "outputs": [],
      "source": [
        "#clone YOLOv5 and\n",
        "!git clone https://github.com/ultralytics/yolov5  # clone repo\n",
        "%cd yolov5\n",
        "%pip install -qr requirements.txt # install dependencies\n",
        "%pip install -q roboflow\n",
        "\n",
        "import torch\n",
        "import os\n",
        "from IPython.display import Image, clear_output  # to display images\n",
        "\n",
        "print(f\"Setup complete. Using torch {torch.__version__} ({torch.cuda.get_device_properties(0).name if torch.cuda.is_available() else 'CPU'})\")"
      ]
    },
    {
      "cell_type": "code",
      "source": [
        "# set up environment\n",
        "os.environ[\"DATASET_DIRECTORY\"] = \"/content/datasets\""
      ],
      "metadata": {
        "id": "k0iYIqDFn7Qf"
      },
      "execution_count": null,
      "outputs": []
    },
    {
      "cell_type": "code",
      "source": [
        "from roboflow import Roboflow\n",
        "rf = Roboflow(api_key=\"PZvJbpNUYuJJDMh8nypC\")\n",
        "project = rf.workspace(\"gdit\").project(\"aerial-airport\")\n",
        "dataset = project.version(1).download(\"yolov5\")"
      ],
      "metadata": {
        "id": "89fi4oFan2oh"
      },
      "execution_count": null,
      "outputs": []
    },
    {
      "cell_type": "code",
      "source": [
        "epochs = 50\n",
        "batch_size = 16\n",
        "img_size = 600\n",
        "weak_model = \"yolov5n\"\n",
        "strong_model = \"yolov5m\""
      ],
      "metadata": {
        "id": "y8VbO0RSb6uL"
      },
      "execution_count": null,
      "outputs": []
    },
    {
      "cell_type": "markdown",
      "source": [
        "## Train strong ceiling model (YOLOv5m)"
      ],
      "metadata": {
        "id": "6YeZZ5sVsVap"
      }
    },
    {
      "cell_type": "code",
      "source": [
        "!python train.py --img {img_size} --batch {batch_size} --epochs {epochs} --data {dataset.location}/data.yaml --weights {strong_model}.pt --cache"
      ],
      "metadata": {
        "id": "fytM3VAjawu5"
      },
      "execution_count": null,
      "outputs": []
    },
    {
      "cell_type": "code",
      "source": [
        "from google.colab import files\n",
        "files.download('./runs/train/exp')"
      ],
      "metadata": {
        "id": "FxGSoEnAawVj"
      },
      "execution_count": null,
      "outputs": []
    },
    {
      "cell_type": "markdown",
      "source": [
        "## Train weak model (YOLOv5n)"
      ],
      "metadata": {
        "id": "blRfbLC8sDY2"
      }
    },
    {
      "cell_type": "code",
      "source": [
        "reduced_dataset_path = '/content/drive/MyDrive/Colab\\ Notebooks/weak-to-strong-generalization/Aerial-Airport-1-reduced'"
      ],
      "metadata": {
        "id": "pEk-8qvW0K71"
      },
      "execution_count": null,
      "outputs": []
    },
    {
      "cell_type": "code",
      "source": [
        "!python train.py --img {img_size} --batch {batch_size} --epochs {epochs} --data {reduced_dataset_path}/data.yaml --weights {weak_model}.pt --cache"
      ],
      "metadata": {
        "id": "eh4swCjaoSm3"
      },
      "execution_count": null,
      "outputs": []
    },
    {
      "cell_type": "code",
      "source": [
        "from google.colab import files\n",
        "files.download('./runs/train/exp1')"
      ],
      "metadata": {
        "id": "PQ-K-6isbO6T"
      },
      "execution_count": null,
      "outputs": []
    },
    {
      "cell_type": "markdown",
      "source": [
        "## Generate weak labels"
      ],
      "metadata": {
        "id": "crJd8PHNsJ-u"
      }
    },
    {
      "cell_type": "code",
      "source": [
        "!python detect.py --weights runs/train/exp1/weights/best.pt --img 600 --conf 0.1 --source {dataset.location}/train/images --save-txt"
      ],
      "metadata": {
        "id": "5EMlposppjMr"
      },
      "execution_count": null,
      "outputs": []
    },
    {
      "cell_type": "code",
      "source": [
        "#display inference on ALL test images\n",
        "\n",
        "# import glob\n",
        "# from IPython.display import Image, display\n",
        "\n",
        "# for imageName in glob.glob('/content/yolov5/runs/detect/exp/*.jpg'): #assuming JPG\n",
        "#     display(Image(filename=imageName))\n",
        "#     print(\"\\n\")"
      ],
      "metadata": {
        "id": "z4iXxLNFplqz"
      },
      "execution_count": null,
      "outputs": []
    },
    {
      "cell_type": "code",
      "source": [
        "%rm -r {dataset.location}/train/labels\n",
        "%cp -r runs/detect/exp/labels {dataset.location}/train"
      ],
      "metadata": {
        "id": "s_j9ZjnVpodz"
      },
      "execution_count": null,
      "outputs": []
    },
    {
      "cell_type": "markdown",
      "source": [
        "## Train strong student model (YOLOv5m)"
      ],
      "metadata": {
        "id": "h0ZAdD2RsROZ"
      }
    },
    {
      "cell_type": "code",
      "source": [
        "!python train.py --img {img_size} --batch {batch_size} --epochs {epochs} --data {dataset.location}/data.yaml --weights {strong_model}.pt --cache"
      ],
      "metadata": {
        "id": "FXn6y5N7EA2W"
      },
      "execution_count": null,
      "outputs": []
    },
    {
      "cell_type": "code",
      "source": [
        "from google.colab import files\n",
        "files.download('./runs/train/exp2')"
      ],
      "metadata": {
        "id": "9AzBE4bIGOLD"
      },
      "execution_count": null,
      "outputs": []
    }
  ]
}